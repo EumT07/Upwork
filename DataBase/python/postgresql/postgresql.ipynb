{
 "cells": [
  {
   "cell_type": "markdown",
   "id": "6da08f32",
   "metadata": {},
   "source": [
    "# Inserting Data into Postgres Database"
   ]
  },
  {
   "cell_type": "markdown",
   "id": "900b9691",
   "metadata": {},
   "source": [
    "### Using pandas"
   ]
  },
  {
   "cell_type": "code",
   "execution_count": null,
   "id": "eecea9da",
   "metadata": {
    "vscode": {
     "languageId": "shellscript"
    }
   },
   "outputs": [],
   "source": [
    "pip install SQLAlchemy"
   ]
  },
  {
   "cell_type": "code",
   "execution_count": null,
   "id": "ee4b5949",
   "metadata": {
    "vscode": {
     "languageId": "shellscript"
    }
   },
   "outputs": [],
   "source": [
    "pip install psycopg2"
   ]
  },
  {
   "cell_type": "code",
   "execution_count": 1,
   "id": "3359ef28",
   "metadata": {},
   "outputs": [],
   "source": [
    "import pandas as pd\n",
    "import psycopg2\n",
    "from sqlalchemy import create_engine\n",
    "import os, dotenv\n",
    "from dotenv import load_dotenv\n",
    "from datetime import datetime"
   ]
  },
  {
   "cell_type": "code",
   "execution_count": 2,
   "id": "0ec321aa",
   "metadata": {},
   "outputs": [],
   "source": [
    "load_dotenv()\n",
    "\n",
    "database_name = os.getenv(\"DATABASE_NAME\")\n",
    "user = os.getenv(\"USER\")\n",
    "password = os.getenv(\"PASSWORD\")\n",
    "host = os.getenv(\"HOST\")\n",
    "port = os.getenv(\"PORT\")"
   ]
  },
  {
   "cell_type": "markdown",
   "id": "40afdc34",
   "metadata": {},
   "source": [
    "## Inserting data from Excel to Postgresql with pandas"
   ]
  },
  {
   "cell_type": "markdown",
   "id": "b393b62d",
   "metadata": {},
   "source": [
    "### First Create Connction with postgress and create Table\n",
    "\n",
    "1. Install Postgres\n",
    "\n",
    "![sql_1](./sql/install.png)\n",
    "\n",
    "2. Create Connection\n",
    "\n",
    "![sql_2](./sql/connect.png)\n",
    "\n",
    "3. Create sql file:\n",
    "    *   Create database: upwork_1;\n",
    "    *   Create all tables.\n",
    "\n",
    "![sql](./sql/sql_data.png)"
   ]
  },
  {
   "cell_type": "markdown",
   "id": "86658cac",
   "metadata": {},
   "source": [
    "### Second Use pandas to access all sheets and insert data into postgresql database"
   ]
  },
  {
   "cell_type": "code",
   "execution_count": 3,
   "id": "63a07270",
   "metadata": {},
   "outputs": [],
   "source": [
    "#Define root\n",
    "root = \"../../excel/clean/data_cleaned.xlsx\"\n",
    "# Connect to PostgreSQL\n",
    "engine = create_engine(f'postgresql://{user}:{password}@{host}:{port}/{database_name}')"
   ]
  },
  {
   "cell_type": "code",
   "execution_count": 4,
   "id": "207e5fd3",
   "metadata": {},
   "outputs": [
    {
     "name": "stdout",
     "output_type": "stream",
     "text": [
      "Data correctly obtained from excel\n"
     ]
    }
   ],
   "source": [
    "try:\n",
    "    # Read Excel\n",
    "    user = pd.read_excel(root, sheet_name=\"users\", parse_dates=['birthday', 'created'])\n",
    "    countries = pd.read_excel(root, sheet_name=\"countries\")\n",
    "    companies = pd.read_excel(root, sheet_name=\"companies\")\n",
    "    bills = pd.read_excel(root, sheet_name=\"bills\",parse_dates=['created'])\n",
    "    bills_items = pd.read_excel(root, sheet_name=\"bill_items\")\n",
    "    products = pd.read_excel(root, sheet_name=\"products\",parse_dates=['release'])\n",
    "    products_items = pd.read_excel(root, sheet_name=\"product_items\")\n",
    "    payments = pd.read_excel(root, sheet_name=\"payments\",parse_dates=['created'])\n",
    "    payment_methods = pd.read_excel(root, sheet_name=\"payment_methods\")\n",
    "\n",
    "\n",
    "    print(\"Data correctly obtained from excel\")\n",
    "except Exception as e:\n",
    "    print(f\"Error: {e}\")"
   ]
  },
  {
   "cell_type": "markdown",
   "id": "4c8323a3",
   "metadata": {},
   "source": [
    "### Convert dates --> user['created']"
   ]
  },
  {
   "cell_type": "code",
   "execution_count": 5,
   "id": "30bdadf8",
   "metadata": {},
   "outputs": [],
   "source": [
    "def convert_dates(data,):\n",
    "    new_list = []\n",
    "    for i in range(len(data)):\n",
    "        if len(data[i]) >= 19:\n",
    "            new_list.append(data[i].split(' ')[0])\n",
    "        else:\n",
    "            new_list.append(datetime.strptime(data[i], '%d/%m/%Y').strftime('%Y-%m-%d'))\n",
    "        \n",
    "    return new_list"
   ]
  },
  {
   "cell_type": "markdown",
   "id": "632b6261",
   "metadata": {},
   "source": [
    "### Creating Objects"
   ]
  },
  {
   "cell_type": "code",
   "execution_count": 6,
   "id": "113bc536",
   "metadata": {},
   "outputs": [],
   "source": [
    "#Users\n",
    "user_data = {\n",
    "    \"id\": list(user[\"id\"]),\n",
    "    \"username\": list(user[\"username\"]),\n",
    "    \"first_name\": list(user[\"first_name\"]),\n",
    "    \"last_name\": list(user[\"last_name\"]),\n",
    "    \"email\": list(user[\"email\"]),\n",
    "    \"password\": list(user[\"password\"]),\n",
    "    \"gender\": list(user[\"gender\"]),\n",
    "    \"birthday\": [x.strftime('%Y-%m-%d') if x else None for x in user[\"birthday\"]],\n",
    "    \"country_id\": list(user[\"country_id\"]),\n",
    "    \"created\": convert_dates(user['created'].tolist())\n",
    "}\n",
    "\n",
    "#bills\n",
    "bills_data = {\n",
    "    \"id\": list(bills[\"id\"]),\n",
    "    \"user_id\": list(bills[\"user_id\"]),\n",
    "    \"bill_address\": list(bills[\"bill_address\"]),\n",
    "    \"shipping_address\": list(bills[\"shipping_address\"]),\n",
    "    \"status\": list(bills[\"status\"]),\n",
    "    \"created\": [x.strftime('%Y-%m-%d') if x else None for x in bills[\"created\"]]\n",
    "}\n",
    "\n",
    "#Products\n",
    "products_data = {\n",
    "    \"id\": list(products[\"id\"]),\n",
    "    \"product_name\": list(products[\"product_name\"]),\n",
    "    \"description\": list(products[\"description\"]),\n",
    "    \"price\": list(products[\"price\"]),\n",
    "    \"release\": [x.strftime('%Y-%m-%d') if x else None for x in products[\"release\"]],\n",
    "    \"department\": list(products[\"department\"])\n",
    "}\n",
    "\n",
    "#Payment\n",
    "payment_data = {\n",
    "    \"id\": list(payments[\"id\"]),\n",
    "    \"payment_methods_id\": list(payments[\"pay_methods_id\"]),\n",
    "    \"bills_id\": list(payments[\"bills_id\"]),\n",
    "    \"transaction_id\": list(payments[\"transaction_id\"]),\n",
    "    \"status\": list(payments[\"status\"]),\n",
    "    \"created\": [x.strftime('%Y-%m-%d') if x else None for x in payments[\"created\"]]\n",
    "}"
   ]
  },
  {
   "cell_type": "code",
   "execution_count": 7,
   "id": "88fc432f",
   "metadata": {},
   "outputs": [],
   "source": [
    "new_users = pd.DataFrame(user_data)\n",
    "new_bills = pd.DataFrame(bills_data)\n",
    "new_products = pd.DataFrame(products_data)\n",
    "new_payments = pd.DataFrame(payment_data)"
   ]
  },
  {
   "cell_type": "code",
   "execution_count": null,
   "id": "d8e573e8",
   "metadata": {},
   "outputs": [
    {
     "name": "stdout",
     "output_type": "stream",
     "text": [
      "Data successfully imported to PostgreSQL!\n"
     ]
    }
   ],
   "source": [
    "try:\n",
    "    # Insert data\n",
    "    countries.to_sql('countries', engine, if_exists='append', index=False)\n",
    "    new_users.to_sql('users', engine, if_exists='append', index=False)\n",
    "    companies.to_sql('companies', engine, if_exists='append', index=False)\n",
    "    new_bills.to_sql('bills', engine, if_exists='append', index=False)\n",
    "    bills_items.to_sql('bills_items', engine, if_exists='append', index=False)\n",
    "    new_products.to_sql('products', engine, if_exists='append', index=False)\n",
    "    products_items.to_sql('products_items', engine, if_exists='append', index=False)\n",
    "    payment_methods.to_sql('payment_methods', engine, if_exists='append', index=False)\n",
    "    new_payments.to_sql('payments', engine, if_exists='append', index=False)\n",
    "\n",
    "\n",
    "    print(\"Data successfully imported to PostgreSQL!\")\n",
    "except Exception as e:\n",
    "    print(f\"Error: {e}\")"
   ]
  }
 ],
 "metadata": {
  "kernelspec": {
   "display_name": "scrap",
   "language": "python",
   "name": "python3"
  },
  "language_info": {
   "codemirror_mode": {
    "name": "ipython",
    "version": 3
   },
   "file_extension": ".py",
   "mimetype": "text/x-python",
   "name": "python",
   "nbconvert_exporter": "python",
   "pygments_lexer": "ipython3",
   "version": "3.12.5"
  }
 },
 "nbformat": 4,
 "nbformat_minor": 5
}
