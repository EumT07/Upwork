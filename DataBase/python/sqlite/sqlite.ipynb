{
 "cells": [
  {
   "cell_type": "code",
   "execution_count": 1,
   "id": "e129f2e4",
   "metadata": {},
   "outputs": [],
   "source": [
    "import dotenv, os\n",
    "import json\n",
    "import sqlite3\n",
    "from datetime import datetime"
   ]
  },
  {
   "cell_type": "markdown",
   "id": "e70fe970",
   "metadata": {},
   "source": [
    "### Getting data from JSON"
   ]
  },
  {
   "cell_type": "code",
   "execution_count": 2,
   "id": "27f83db3",
   "metadata": {},
   "outputs": [],
   "source": [
    "def get_dataCollections(file):\n",
    "    root = f\"../../JSON/json/{file}.json\"\n",
    "    new_list = []\n",
    "    try:\n",
    "        with open(root, \"r\", encoding=\"utf-8\") as file:\n",
    "            datos = json.load(file)\n",
    "\n",
    "        for data in datos:\n",
    "            new_list.append(data)\n",
    "        return new_list\n",
    "    except FileNotFoundError:\n",
    "        print(f\"❌ Error: File: '{root}' Doesn't exist.\")\n",
    "    except json.JSONDecodeError:\n",
    "        print(f\"❌ Error: File: '{root}' JSON not valid.\")\n",
    "    except Exception as e:\n",
    "        print(f\"❌ Error: {str(e)}\")"
   ]
  },
  {
   "cell_type": "code",
   "execution_count": 3,
   "id": "b195e90d",
   "metadata": {},
   "outputs": [],
   "source": [
    "users = get_dataCollections(\"users\")\n",
    "countries = get_dataCollections(\"countries\")\n",
    "companies = get_dataCollections(\"companies\")\n",
    "products = get_dataCollections(\"products\")\n",
    "product_items = get_dataCollections(\"product_items\")\n",
    "bills = get_dataCollections(\"bills\")\n",
    "bill_items = get_dataCollections(\"bill_items\")\n",
    "payments = get_dataCollections(\"payments\")\n",
    "payment_methods = get_dataCollections(\"payment_methods\")"
   ]
  },
  {
   "cell_type": "markdown",
   "id": "bc204c1c",
   "metadata": {},
   "source": [
    "### Creating Database"
   ]
  },
  {
   "cell_type": "code",
   "execution_count": 4,
   "id": "6dba1088",
   "metadata": {},
   "outputs": [
    {
     "name": "stdout",
     "output_type": "stream",
     "text": [
      "DB Init\n",
      "SQLite Version is [('3.45.3',)]\n"
     ]
    }
   ],
   "source": [
    "try:\n",
    "\n",
    "    # Connect to DB and create a cursor\n",
    "    connection = sqlite3.connect(\"upwork.db\")\n",
    "    db = connection.cursor()\n",
    "    print('DB Init')\n",
    "\n",
    "    # Write a query and execute it with cursor\n",
    "    query = 'select sqlite_version();'\n",
    "    db.execute(query)\n",
    "\n",
    "    # Fetch and output result\n",
    "    result = db.fetchall()\n",
    "    print('SQLite Version is {}'.format(result))\n",
    "\n",
    "\n",
    "# Handle errors\n",
    "except sqlite3.Error as error:\n",
    "    print('Error occurred - ', error)"
   ]
  },
  {
   "cell_type": "markdown",
   "id": "92aa38fa",
   "metadata": {},
   "source": [
    "### Creating Tables"
   ]
  },
  {
   "cell_type": "code",
   "execution_count": 5,
   "id": "e52855b8",
   "metadata": {},
   "outputs": [
    {
     "name": "stdout",
     "output_type": "stream",
     "text": [
      "Database 'upwork' created successfully with all tables.\n"
     ]
    }
   ],
   "source": [
    "# Enable foreign key constraints\n",
    "try:\n",
    "    db.execute(\"PRAGMA foreign_keys = ON\")\n",
    "    \n",
    "    # Create countries table\n",
    "    db.execute('''\n",
    "    CREATE TABLE IF NOT EXISTS countries (\n",
    "        id TEXT PRIMARY KEY,\n",
    "        country TEXT NOT NULL,\n",
    "        nationality TEXT NOT NULL,\n",
    "        code TEXT NOT NULL\n",
    "    )\n",
    "    ''')\n",
    "    \n",
    "    # Create users table\n",
    "    db.execute('''\n",
    "    CREATE TABLE IF NOT EXISTS users (\n",
    "        id TEXT PRIMARY KEY,\n",
    "        username TEXT NOT NULL UNIQUE,\n",
    "        first_name TEXT,\n",
    "        last_name TEXT,\n",
    "        password TEXT NOT NULL,\n",
    "        email TEXT NOT NULL UNIQUE,\n",
    "        gender TEXT CHECK(gender IN ('Male', 'Female')),\n",
    "        country_id TEXT,\n",
    "        birthday DATE,\n",
    "        created DATE,\n",
    "        FOREIGN KEY (country_id) REFERENCES countries(id)\n",
    "    )\n",
    "    ''')\n",
    "    \n",
    "    # Create companies table\n",
    "    db.execute('''\n",
    "    CREATE TABLE IF NOT EXISTS companies (\n",
    "        id TEXT PRIMARY KEY,\n",
    "        company_name TEXT NOT NULL,\n",
    "        tax_id INTEGER,\n",
    "        sales INTEGER\n",
    "    )\n",
    "    ''')\n",
    "    \n",
    "    # Create products table\n",
    "    db.execute('''\n",
    "    CREATE TABLE IF NOT EXISTS products (\n",
    "        id TEXT PRIMARY KEY,\n",
    "        company_id TEXT,\n",
    "        product_name TEXT NOT NULL,\n",
    "        description TEXT,\n",
    "        price DECIMAL(10,2) NOT NULL,\n",
    "        release DATE,\n",
    "        department TEXT,\n",
    "        updated TIMESTAMP,\n",
    "        FOREIGN KEY (company_id) REFERENCES companies(id)\n",
    "    )\n",
    "    ''')\n",
    "    \n",
    "    # Create product_items table\n",
    "    db.execute('''\n",
    "    CREATE TABLE IF NOT EXISTS product_items (\n",
    "        id TEXT PRIMARY KEY,\n",
    "        product_item_id TEXT NOT NULL,\n",
    "        serial_number TEXT UNIQUE,\n",
    "        status TEXT CHECK(status IN ('available', 'sold', 'returned')),\n",
    "        FOREIGN KEY (product_item_id) REFERENCES products(id)\n",
    "    )\n",
    "    ''')\n",
    "    \n",
    "    # Create payment_methods table\n",
    "    db.execute('''\n",
    "    CREATE TABLE IF NOT EXISTS payment_methods (\n",
    "        id TEXT PRIMARY KEY,\n",
    "        payment_methods TEXT CHECK(payment_methods IN ('Paypal', 'Binance', 'Zinly', 'Zeller', 'American Express', 'Master Card', 'Visa', 'Bank of America'))\n",
    "    )\n",
    "    ''')\n",
    "    \n",
    "    # Create bills table\n",
    "    db.execute('''\n",
    "    CREATE TABLE IF NOT EXISTS bills (\n",
    "        id TEXT PRIMARY KEY,\n",
    "        user_id TEXT NOT NULL,\n",
    "        bill_address TEXT NOT NULL,\n",
    "        shipping_address TEXT NOT NULL,\n",
    "        status TEXT CHECK(status IN ('pending', 'paid', 'shipped', 'delivered', 'cancelled')),\n",
    "        created DATE,\n",
    "        FOREIGN KEY (user_id) REFERENCES users(id)\n",
    "    )\n",
    "    ''')\n",
    "    \n",
    "    # Create payments table\n",
    "    db.execute('''\n",
    "    CREATE TABLE IF NOT EXISTS payments (\n",
    "        id TEXT PRIMARY KEY,\n",
    "        bill_id TEXT NOT NULL,\n",
    "        payment_methods_id TEXT NOT NULL,\n",
    "        transaction_id TEXT,\n",
    "        status TEXT CHECK(status IN ('pending', 'completed', 'failed', 'refunded')),\n",
    "        created DATE,\n",
    "        FOREIGN KEY (bill_id) REFERENCES bills(id),\n",
    "        FOREIGN KEY (payment_methods_id) REFERENCES payment_methods(id)\n",
    "    )\n",
    "    ''')\n",
    "    \n",
    "    # Create bill_items table\n",
    "    db.execute('''\n",
    "    CREATE TABLE IF NOT EXISTS bill_items (\n",
    "        id TEXT PRIMARY KEY,\n",
    "        bill_id TEXT NOT NULL,\n",
    "        product_item_id TEXT NOT NULL,\n",
    "        quantity INTEGER NOT NULL DEFAULT 1,\n",
    "        FOREIGN KEY (bill_id) REFERENCES bills(id),\n",
    "        FOREIGN KEY (product_item_id) REFERENCES product_items(id)\n",
    "    )\n",
    "    ''')\n",
    "\n",
    "    print(f\"Database 'upwork' created successfully with all tables.\")\n",
    "except sqlite3.Error as error:\n",
    "    print('Error occurred - ', error)"
   ]
  },
  {
   "cell_type": "markdown",
   "id": "199754c4",
   "metadata": {},
   "source": [
    "# Inserting into Database"
   ]
  },
  {
   "cell_type": "code",
   "execution_count": 6,
   "id": "8180e116",
   "metadata": {},
   "outputs": [],
   "source": [
    "def insert_data(query,data_tuple):\n",
    "    try:\n",
    "        db.execute(\"PRAGMA foreign_keys = ON\")\n",
    "\n",
    "        db.executemany(query,data_tuple)\n",
    "            \n",
    "        print(f\"Successfully inserted.\")\n",
    "            \n",
    "    except sqlite3.IntegrityError as e:\n",
    "        print(f\"Integrity error: {e}. Possible duplicate data.\")\n",
    "    except sqlite3.Error as e:\n",
    "        print(f\"Database error: {e}\")\n",
    "    except Exception as e:\n",
    "        print(f\"General error: {e}\")"
   ]
  },
  {
   "cell_type": "markdown",
   "id": "b88282aa",
   "metadata": {},
   "source": [
    "# Getting sql query and data"
   ]
  },
  {
   "cell_type": "markdown",
   "id": "ee1e2a0c",
   "metadata": {},
   "source": [
    "## Countries"
   ]
  },
  {
   "cell_type": "code",
   "execution_count": 7,
   "id": "ff025796",
   "metadata": {},
   "outputs": [
    {
     "name": "stdout",
     "output_type": "stream",
     "text": [
      "Successfully inserted.\n"
     ]
    }
   ],
   "source": [
    "try:\n",
    "    country_query = \"\"\"INSERT INTO countries VALUES (?,?,?,?)\"\"\"\n",
    "    country_tuple = [ (\n",
    "        country[\"id\"],\n",
    "        country[\"country\"],\n",
    "        country[\"nationality\"],\n",
    "        country[\"code\"]\n",
    "    ) for country in countries]\n",
    "except Exception as e:\n",
    "    print(f\"Error: {e}\")\n",
    "\n",
    "insert_data(country_query,country_tuple)"
   ]
  },
  {
   "cell_type": "markdown",
   "id": "041ffa50",
   "metadata": {},
   "source": [
    "## Users"
   ]
  },
  {
   "cell_type": "code",
   "execution_count": 8,
   "id": "af10d6a8",
   "metadata": {},
   "outputs": [
    {
     "name": "stdout",
     "output_type": "stream",
     "text": [
      "Successfully inserted.\n"
     ]
    }
   ],
   "source": [
    "try:\n",
    "    users_query = \"\"\"INSERT INTO users VALUES (?,?,?,?,?,?,?,?,?,?)\"\"\"\n",
    "    users_tuple = [ (\n",
    "        user[\"id\"],\n",
    "        user[\"username\"],\n",
    "        user[\"first_name\"],\n",
    "        user[\"last_name\"],\n",
    "        user[\"password\"],\n",
    "        user[\"email\"],\n",
    "        user[\"gender\"],\n",
    "        user[\"country\"],\n",
    "        user[\"birthday\"],\n",
    "        user[\"created\"]\n",
    "    ) for user in users]\n",
    "except Exception as e:\n",
    "    print(f\"Error: {e}\")\n",
    "\n",
    "insert_data(users_query,users_tuple)"
   ]
  },
  {
   "cell_type": "markdown",
   "id": "16164436",
   "metadata": {},
   "source": [
    "## Companies"
   ]
  },
  {
   "cell_type": "code",
   "execution_count": 9,
   "id": "21fc1122",
   "metadata": {},
   "outputs": [
    {
     "name": "stdout",
     "output_type": "stream",
     "text": [
      "Successfully inserted.\n"
     ]
    }
   ],
   "source": [
    "try:\n",
    "    companies_query = \"\"\"INSERT INTO companies VALUES (?,?,?,?)\"\"\"\n",
    "    companies_tuple = [(\n",
    "        company[\"id\"],\n",
    "        company[\"company_name\"],\n",
    "        company[\"tax_id\"],\n",
    "        company[\"sales\"]\n",
    "    ) for company in companies]\n",
    "except Exception as e:\n",
    "    print(f\"Error: {e}\")\n",
    "    \n",
    "insert_data(companies_query,companies_tuple)"
   ]
  },
  {
   "cell_type": "markdown",
   "id": "f8d0534a",
   "metadata": {},
   "source": [
    "## Products"
   ]
  },
  {
   "cell_type": "code",
   "execution_count": 10,
   "id": "29a98967",
   "metadata": {},
   "outputs": [
    {
     "name": "stdout",
     "output_type": "stream",
     "text": [
      "Successfully inserted.\n"
     ]
    }
   ],
   "source": [
    "try:\n",
    "    products_query = \"\"\"INSERT INTO products VALUES (?,?,?,?,?,?,?,?)\"\"\"\n",
    "    products_tuple = [(\n",
    "        product[\"id\"],\n",
    "        product[\"company_id\"],\n",
    "        product[\"product_name\"],\n",
    "        product[\"description\"],\n",
    "        product[\"price\"],\n",
    "        product[\"release\"],\n",
    "        product[\"department\"],\n",
    "        datetime.now().isoformat()\n",
    "    ) for product in products]\n",
    "except Exception as e:\n",
    "    print(f\"Error: {e}\")\n",
    "    \n",
    "insert_data(products_query,products_tuple)"
   ]
  },
  {
   "cell_type": "markdown",
   "id": "8dc29372",
   "metadata": {},
   "source": [
    "## Products Items"
   ]
  },
  {
   "cell_type": "code",
   "execution_count": 11,
   "id": "ed75c837",
   "metadata": {},
   "outputs": [
    {
     "name": "stdout",
     "output_type": "stream",
     "text": [
      "Successfully inserted.\n"
     ]
    }
   ],
   "source": [
    "try:\n",
    "    product_items_query = \"\"\"INSERT INTO product_items VALUES (?,?,?,?)\"\"\"\n",
    "    product_items_tuple = [(\n",
    "        item[\"id\"],\n",
    "        item[\"product_item_id\"],\n",
    "        item[\"serial_number\"],\n",
    "        item[\"status\"]\n",
    "    ) for item in product_items]\n",
    "except Exception as e:\n",
    "    print(f\"Error: {e}\")\n",
    "\n",
    "insert_data(product_items_query,product_items_tuple)"
   ]
  },
  {
   "cell_type": "markdown",
   "id": "6fc1c080",
   "metadata": {},
   "source": [
    "## Bills"
   ]
  },
  {
   "cell_type": "code",
   "execution_count": 12,
   "id": "1354fb36",
   "metadata": {},
   "outputs": [
    {
     "name": "stdout",
     "output_type": "stream",
     "text": [
      "Successfully inserted.\n"
     ]
    }
   ],
   "source": [
    "try:\n",
    "    bills_query = \"\"\"INSERT INTO bills VALUES (?,?,?,?,?,?)\"\"\"\n",
    "    bills_tuple = [(\n",
    "        bill[\"id\"],\n",
    "        bill[\"user_id\"],\n",
    "        bill[\"bill_address\"],\n",
    "        bill[\"shipping_address\"],\n",
    "        bill[\"status\"],\n",
    "        bill[\"created\"]\n",
    "    ) for bill in bills]\n",
    "except Exception as e:\n",
    "    print(f\"Error: {e}\")\n",
    "\n",
    "insert_data(bills_query,bills_tuple)"
   ]
  },
  {
   "cell_type": "markdown",
   "id": "b5131d71",
   "metadata": {},
   "source": [
    "## Bills Items"
   ]
  },
  {
   "cell_type": "code",
   "execution_count": 13,
   "id": "9faecc9e",
   "metadata": {},
   "outputs": [
    {
     "name": "stdout",
     "output_type": "stream",
     "text": [
      "Successfully inserted.\n"
     ]
    }
   ],
   "source": [
    "try:\n",
    "    bill_items_query = \"\"\"INSERT INTO bill_items VALUES (?,?,?,?)\"\"\"\n",
    "    bill_items_tuple = [(\n",
    "        bill_item[\"id\"],\n",
    "        bill_item[\"bill_id\"],\n",
    "        bill_item[\"product_item_id\"],\n",
    "        bill_item[\"quantity\"]\n",
    "    ) for bill_item in bill_items]\n",
    "except Exception as e:\n",
    "    print(f\"Error: {e}\")\n",
    "\n",
    "insert_data(bill_items_query,bill_items_tuple)"
   ]
  },
  {
   "cell_type": "markdown",
   "id": "9d62bfae",
   "metadata": {},
   "source": [
    "## Payment_methods"
   ]
  },
  {
   "cell_type": "code",
   "execution_count": 14,
   "id": "fd00a1e9",
   "metadata": {},
   "outputs": [
    {
     "name": "stdout",
     "output_type": "stream",
     "text": [
      "Successfully inserted.\n"
     ]
    }
   ],
   "source": [
    "try:\n",
    "    payment_methods_query = \"\"\"INSERT INTO payment_methods VALUES (?,?)\"\"\"\n",
    "    payment_methods_tuple = [(\n",
    "        method[\"id\"],\n",
    "        method[\"payment_methods\"]\n",
    "    ) for method in payment_methods]\n",
    "except Exception as e:\n",
    "    print(f\"Error: {e}\")\n",
    "\n",
    "insert_data(payment_methods_query,payment_methods_tuple)"
   ]
  },
  {
   "cell_type": "markdown",
   "id": "c606e930",
   "metadata": {},
   "source": [
    "## Payments"
   ]
  },
  {
   "cell_type": "code",
   "execution_count": 15,
   "id": "d367f4eb",
   "metadata": {},
   "outputs": [
    {
     "name": "stdout",
     "output_type": "stream",
     "text": [
      "Successfully inserted.\n"
     ]
    }
   ],
   "source": [
    "try:\n",
    "    payments_query = \"\"\"INSERT INTO payments VALUES (?,?,?,?,?,?)\"\"\"\n",
    "    payments_tuple = [(\n",
    "        payment[\"id\"],\n",
    "        payment[\"bill_id\"],\n",
    "        payment[\"payment_methods_id\"],\n",
    "        payment[\"transaction_id\"],\n",
    "        payment[\"status\"],\n",
    "        payment[\"created\"]\n",
    "    ) for payment in payments]\n",
    "except Exception as e:\n",
    "    print(f\"Error: {e}\")\n",
    "\n",
    "insert_data(payments_query,payments_tuple)"
   ]
  },
  {
   "cell_type": "markdown",
   "id": "54d34b82",
   "metadata": {},
   "source": [
    "### Close Database"
   ]
  },
  {
   "cell_type": "code",
   "execution_count": 16,
   "id": "4ee430c8",
   "metadata": {},
   "outputs": [],
   "source": [
    "# Commit changes and close connection\n",
    "connection.commit()\n",
    "connection.close()"
   ]
  }
 ],
 "metadata": {
  "kernelspec": {
   "display_name": "scrap",
   "language": "python",
   "name": "python3"
  },
  "language_info": {
   "codemirror_mode": {
    "name": "ipython",
    "version": 3
   },
   "file_extension": ".py",
   "mimetype": "text/x-python",
   "name": "python",
   "nbconvert_exporter": "python",
   "pygments_lexer": "ipython3",
   "version": "3.12.5"
  }
 },
 "nbformat": 4,
 "nbformat_minor": 5
}
