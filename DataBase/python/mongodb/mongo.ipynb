{
 "cells": [
  {
   "cell_type": "markdown",
   "id": "d026ef08",
   "metadata": {},
   "source": [
    "### Installing pymongo"
   ]
  },
  {
   "cell_type": "code",
   "execution_count": null,
   "id": "89d4dbac",
   "metadata": {
    "vscode": {
     "languageId": "shellscript"
    }
   },
   "outputs": [],
   "source": [
    "pip install pymongo"
   ]
  },
  {
   "cell_type": "markdown",
   "id": "22fbb172",
   "metadata": {},
   "source": [
    "### Installing bson"
   ]
  },
  {
   "cell_type": "code",
   "execution_count": null,
   "id": "5d3b3468",
   "metadata": {
    "vscode": {
     "languageId": "shellscript"
    }
   },
   "outputs": [],
   "source": [
    "pip install bson"
   ]
  },
  {
   "cell_type": "markdown",
   "id": "9e6b1c31",
   "metadata": {},
   "source": [
    "### Importing Modules"
   ]
  },
  {
   "cell_type": "code",
   "execution_count": null,
   "id": "17dd5223",
   "metadata": {},
   "outputs": [],
   "source": [
    "import pymongo\n",
    "from bson import ObjectId\n",
    "import dotenv, os\n",
    "import json"
   ]
  },
  {
   "cell_type": "code",
   "execution_count": 2,
   "id": "dacf636e",
   "metadata": {},
   "outputs": [],
   "source": [
    "# MONGO_URL = \"mongodb://localhost:27017/\"\n",
    "MONGO_URL = os.getenv(\"MONGO_URL\")\n",
    "client = pymongo.MongoClient(MONGO_URL)"
   ]
  },
  {
   "cell_type": "markdown",
   "id": "7cddea4e",
   "metadata": {},
   "source": [
    "## Creating DataBase"
   ]
  },
  {
   "cell_type": "code",
   "execution_count": 3,
   "id": "bb6f8d21",
   "metadata": {},
   "outputs": [],
   "source": [
    "upwork_db = client[\"upwork\"]"
   ]
  },
  {
   "cell_type": "markdown",
   "id": "1c5978ad",
   "metadata": {},
   "source": [
    "### Creating Collections"
   ]
  },
  {
   "cell_type": "code",
   "execution_count": 4,
   "id": "0d4dba13",
   "metadata": {},
   "outputs": [],
   "source": [
    "users = upwork_db[\"users\"]\n",
    "countries = upwork_db[\"countries\"]\n",
    "companies = upwork_db[\"companies\"]\n",
    "products = upwork_db[\"products\"]\n",
    "product_items = upwork_db[\"product_items\"]\n",
    "bills = upwork_db[\"bills\"]\n",
    "bill_items = upwork_db[\"bill_items\"]\n",
    "payments = upwork_db[\"payment\"]\n",
    "payment_methods = upwork_db[\"payment_methods\"]"
   ]
  },
  {
   "cell_type": "markdown",
   "id": "a64a33f5",
   "metadata": {},
   "source": [
    "### Updaing users id"
   ]
  },
  {
   "cell_type": "code",
   "execution_count": 5,
   "id": "04864f13",
   "metadata": {},
   "outputs": [],
   "source": [
    "def get_dataCollections(file):\n",
    "    root = f\"../../JSON/json/{file}.json\"\n",
    "    new_list = []\n",
    "    try:\n",
    "        with open(root, \"r\", encoding=\"utf-8\") as file:\n",
    "            datos = json.load(file)\n",
    "\n",
    "        for data in datos:\n",
    "            data['_id'] = data.pop('id')\n",
    "            new_list.append(data)\n",
    "        return new_list\n",
    "    except FileNotFoundError:\n",
    "        print(f\"❌ Error: File: '{root}' Doesn't exist.\")\n",
    "    except json.JSONDecodeError:\n",
    "        print(f\"❌ Error: File: '{root}' JSON not valid.\")\n",
    "    except Exception as e:\n",
    "        print(f\"❌ Error: {str(e)}\")\n",
    "    "
   ]
  },
  {
   "cell_type": "code",
   "execution_count": 6,
   "id": "199e4cc8",
   "metadata": {},
   "outputs": [],
   "source": [
    "users_updated = get_dataCollections(\"users\")\n",
    "countries_updated = get_dataCollections(\"countries\")\n",
    "companies_updated = get_dataCollections(\"companies\")\n",
    "products_updated = get_dataCollections(\"products\")\n",
    "product_items_updated = get_dataCollections(\"product_items\")\n",
    "bill_updated = get_dataCollections(\"bills\")\n",
    "bill_items_updated = get_dataCollections(\"bill_items\")\n",
    "payments_updated = get_dataCollections(\"payments\")\n",
    "payment_methods_updated = get_dataCollections(\"payment_methods\")"
   ]
  },
  {
   "cell_type": "markdown",
   "id": "e2532274",
   "metadata": {},
   "source": [
    "## Inserting data into MongoDB"
   ]
  },
  {
   "cell_type": "code",
   "execution_count": null,
   "id": "4477e73c",
   "metadata": {},
   "outputs": [],
   "source": [
    "users.insert_many(users_updated)\n",
    "countries.insert_many(countries_updated)\n",
    "companies.insert_many(companies_updated)\n",
    "products.insert_many(products_updated)\n",
    "product_items.insert_many(product_items_updated)\n",
    "bills.insert_many(bill_updated)\n",
    "bill_items.insert_many(bill_items_updated)\n",
    "payments.insert_many(payments_updated)\n",
    "payment_methods.insert_many(payment_methods_updated)"
   ]
  },
  {
   "cell_type": "markdown",
   "id": "181211a8",
   "metadata": {},
   "source": [
    "### Checking data"
   ]
  },
  {
   "cell_type": "code",
   "execution_count": 18,
   "id": "0f1afc9a",
   "metadata": {},
   "outputs": [
    {
     "name": "stdout",
     "output_type": "stream",
     "text": [
      "Done\n"
     ]
    }
   ],
   "source": [
    "new_users = []\n",
    "for usuario in upwork_db.users.find():\n",
    "    country = upwork_db.countries.find_one({\"_id\": usuario[\"country\"]})\n",
    "    if country[\"country\"].lower() == \"venezuela\":\n",
    "        new_users.append(f\"User: {usuario['first_name']}, Nationality: {country[\"nationality\"]}\")\n",
    "print(\"Done\")"
   ]
  },
  {
   "cell_type": "code",
   "execution_count": 19,
   "id": "32f70b2f",
   "metadata": {},
   "outputs": [
    {
     "data": {
      "text/plain": [
       "['User: Elonore, Nationality: Venezuelan',\n",
       " 'User: Darlleen, Nationality: Venezuelan',\n",
       " 'User: Les, Nationality: Venezuelan',\n",
       " 'User: Ilysa, Nationality: Venezuelan',\n",
       " 'User: Nap, Nationality: Venezuelan']"
      ]
     },
     "execution_count": 19,
     "metadata": {},
     "output_type": "execute_result"
    }
   ],
   "source": [
    "new_users[0:5]"
   ]
  }
 ],
 "metadata": {
  "kernelspec": {
   "display_name": "scrap",
   "language": "python",
   "name": "python3"
  },
  "language_info": {
   "codemirror_mode": {
    "name": "ipython",
    "version": 3
   },
   "file_extension": ".py",
   "mimetype": "text/x-python",
   "name": "python",
   "nbconvert_exporter": "python",
   "pygments_lexer": "ipython3",
   "version": "3.12.5"
  }
 },
 "nbformat": 4,
 "nbformat_minor": 5
}
