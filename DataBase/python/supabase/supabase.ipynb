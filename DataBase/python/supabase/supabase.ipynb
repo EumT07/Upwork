{
 "cells": [
  {
   "cell_type": "markdown",
   "id": "727d8045",
   "metadata": {},
   "source": [
    "### Importing Client Library"
   ]
  },
  {
   "cell_type": "code",
   "execution_count": null,
   "id": "803f7397",
   "metadata": {
    "vscode": {
     "languageId": "shellscript"
    }
   },
   "outputs": [],
   "source": [
    "pip install supabase"
   ]
  },
  {
   "cell_type": "code",
   "execution_count": 1,
   "id": "e6ae7cb8",
   "metadata": {},
   "outputs": [],
   "source": [
    "import os\n",
    "from dotenv import load_dotenv\n",
    "from supabase import create_client, Client\n",
    "import json\n",
    "from typing import List, Dict"
   ]
  },
  {
   "cell_type": "code",
   "execution_count": 2,
   "id": "61082864",
   "metadata": {},
   "outputs": [],
   "source": [
    "load_dotenv()\n",
    "def conection():\n",
    "    try:\n",
    "        url = os.environ.get(\"SUPABASE_URL\")\n",
    "        key = os.environ.get(\"SUPABASE_KEY\")\n",
    "        \n",
    "        if not url or not key:\n",
    "            raise ValueError(\"Supabase URL and API key must be provided in environment variables\")\n",
    "        \n",
    "        # Create and return the Supabase client\n",
    "        supabase: Client = create_client(url, key)\n",
    "        print(\"Successfully connected to Supabase!\")\n",
    "        return supabase\n",
    "    except Exception as e:\n",
    "        print(F\"Error: {e}\")"
   ]
  },
  {
   "cell_type": "code",
   "execution_count": 3,
   "id": "7eba15ca",
   "metadata": {},
   "outputs": [
    {
     "name": "stdout",
     "output_type": "stream",
     "text": [
      "Successfully connected to Supabase!\n"
     ]
    }
   ],
   "source": [
    "supabase_client = conection()"
   ]
  },
  {
   "cell_type": "markdown",
   "id": "858e7fe2",
   "metadata": {},
   "source": [
    "## Creating Tables\n",
    "\n",
    "You can create a sql file, copy and paste this into supabse SQL Editor."
   ]
  },
  {
   "cell_type": "markdown",
   "id": "cf9fc1f1",
   "metadata": {},
   "source": [
    "![sql_supabase](../../assests/sql_editor.png)"
   ]
  },
  {
   "cell_type": "markdown",
   "id": "18bd959d",
   "metadata": {},
   "source": [
    "### Getting data From JSON"
   ]
  },
  {
   "cell_type": "code",
   "execution_count": 4,
   "id": "34dbd561",
   "metadata": {},
   "outputs": [],
   "source": [
    "def get_dataCollections(file):\n",
    "    root = f\"../../JSON/json/{file}.json\"\n",
    "    new_list = []\n",
    "    try:\n",
    "        with open(root, \"r\", encoding=\"utf-8\") as file:\n",
    "            datos = json.load(file)\n",
    "\n",
    "        for data in datos:\n",
    "            new_list.append(data)\n",
    "        return new_list\n",
    "    except FileNotFoundError:\n",
    "        print(f\"❌ Error: File: '{root}' Doesn't exist.\")\n",
    "    except json.JSONDecodeError:\n",
    "        print(f\"❌ Error: File: '{root}' JSON not valid.\")\n",
    "    except Exception as e:\n",
    "        print(f\"❌ Error: {str(e)}\")"
   ]
  },
  {
   "cell_type": "code",
   "execution_count": 5,
   "id": "2eb2dc2a",
   "metadata": {},
   "outputs": [],
   "source": [
    "users = get_dataCollections(\"users\")\n",
    "countries = get_dataCollections(\"countries\")"
   ]
  },
  {
   "cell_type": "markdown",
   "id": "7fce4413",
   "metadata": {},
   "source": [
    "## Inserting Tables"
   ]
  },
  {
   "cell_type": "code",
   "execution_count": 6,
   "id": "2e9774ca",
   "metadata": {},
   "outputs": [],
   "source": [
    "def insert_data(supabase: Client, table_name: str, data: List):\n",
    "    \"\"\"Insert sample data into the table\"\"\"\n",
    "    try:\n",
    "        \n",
    "        # Insert data\n",
    "        result = supabase.table(table_name).insert(data).execute()\n",
    "        \n",
    "        print(f\"Inserted {len(result.data)} records into '{table_name}'\")\n",
    "        print(\"Data Successfully inserted into Supabase!\")\n",
    "    except Exception as e:\n",
    "        print(f\"Error inserting data: {e}\")"
   ]
  },
  {
   "cell_type": "markdown",
   "id": "19670fd7",
   "metadata": {},
   "source": [
    "# 1. Countries"
   ]
  },
  {
   "cell_type": "code",
   "execution_count": 8,
   "id": "58396d7f",
   "metadata": {},
   "outputs": [
    {
     "name": "stdout",
     "output_type": "stream",
     "text": [
      "Inserted 30 records into 'countries'\n",
      "Data Successfully inserted into Supabase!\n"
     ]
    }
   ],
   "source": [
    "countries_table:str = \"countries\"\n",
    "insert_data(supabase_client,countries_table,countries)"
   ]
  },
  {
   "cell_type": "markdown",
   "id": "391926f4",
   "metadata": {},
   "source": [
    "# 1. Users"
   ]
  },
  {
   "cell_type": "markdown",
   "id": "c1021f64",
   "metadata": {},
   "source": [
    "### Chaning key name \"country\" into \"country_id\""
   ]
  },
  {
   "cell_type": "code",
   "execution_count": 7,
   "id": "65eaff19",
   "metadata": {},
   "outputs": [
    {
     "name": "stdout",
     "output_type": "stream",
     "text": [
      "Done\n"
     ]
    }
   ],
   "source": [
    "users_updated = []\n",
    "try:\n",
    "    \"Changing country to country_id\"\n",
    "    for user in users:\n",
    "        user[\"country_id\"] = user.pop(\"country\")\n",
    "        users_updated.append(user)\n",
    "    print(\"Done\")\n",
    "except Exception as e:\n",
    "    print(f\"Error: {e}\")"
   ]
  },
  {
   "cell_type": "code",
   "execution_count": 9,
   "id": "08d6ee87",
   "metadata": {},
   "outputs": [
    {
     "name": "stdout",
     "output_type": "stream",
     "text": [
      "Inserted 5000 records into 'users'\n",
      "Data Successfully inserted into Supabase!\n"
     ]
    }
   ],
   "source": [
    "user_table: str = \"users\"\n",
    "insert_data(supabase_client,user_table,users_updated)"
   ]
  }
 ],
 "metadata": {
  "kernelspec": {
   "display_name": "scrap",
   "language": "python",
   "name": "python3"
  },
  "language_info": {
   "codemirror_mode": {
    "name": "ipython",
    "version": 3
   },
   "file_extension": ".py",
   "mimetype": "text/x-python",
   "name": "python",
   "nbconvert_exporter": "python",
   "pygments_lexer": "ipython3",
   "version": "3.12.5"
  }
 },
 "nbformat": 4,
 "nbformat_minor": 5
}
