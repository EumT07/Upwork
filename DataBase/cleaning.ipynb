{
 "cells": [
  {
   "cell_type": "code",
   "execution_count": 1,
   "id": "0c6bd0c8",
   "metadata": {},
   "outputs": [],
   "source": [
    "import pandas as pd\n",
    "import math, os, json, random"
   ]
  },
  {
   "cell_type": "markdown",
   "id": "d0c7ddcb",
   "metadata": {},
   "source": [
    "# Getting Data from Excel"
   ]
  },
  {
   "cell_type": "code",
   "execution_count": 2,
   "id": "61c22215",
   "metadata": {},
   "outputs": [],
   "source": [
    "\n",
    "user = pd.read_excel(\"./excel/dirty/data.xlsx\", sheet_name=\"users\")\n",
    "countries = pd.read_excel(\"./excel/dirty/data.xlsx\", sheet_name=\"countries\")\n",
    "companies = pd.read_excel(\"./excel/dirty/data.xlsx\", sheet_name=\"companies\")\n",
    "bills = pd.read_excel(\"./excel/dirty/data.xlsx\", sheet_name=\"bills\")\n",
    "bills_items = pd.read_excel(\"./excel/dirty/data.xlsx\", sheet_name=\"bill_items\")\n",
    "products = pd.read_excel(\"./excel/dirty/data.xlsx\", sheet_name=\"products\")\n",
    "products_items = pd.read_excel(\"./excel/dirty/data.xlsx\", sheet_name=\"product_items\")\n",
    "payments = pd.read_excel(\"./excel/dirty/data.xlsx\", sheet_name=\"payments\")\n",
    "payment_methods = pd.read_excel(\"./excel/dirty/data.xlsx\", sheet_name=\"payment_methods\")"
   ]
  },
  {
   "cell_type": "markdown",
   "id": "47815ed1",
   "metadata": {},
   "source": [
    "### Objects"
   ]
  },
  {
   "cell_type": "code",
   "execution_count": null,
   "id": "1d9b074b",
   "metadata": {},
   "outputs": [],
   "source": [
    "#Users\n",
    "user_data = {\n",
    "    \"id\": list(user[\"id\"]),\n",
    "    \"username\": list(user[\"username\"]),\n",
    "    \"fisrt_name\": list(user[\"fisrt_name\"]),\n",
    "    \"last_name\": list(user[\"last_name\"]),\n",
    "    \"email\": list(user[\"email\"]),\n",
    "    \"password\": list(user[\"password\"]),\n",
    "    \"gender\": list(user[\"gender\"]),\n",
    "    \"birthday\": list(user[\"birthday\"]),\n",
    "    \"country_id\": list(user[\"country_id\"]),\n",
    "    \"created\": list(user[\"created\"])\n",
    "}\n",
    "\n",
    "#Countries\n",
    "countries_data = {\n",
    "    \"id\": list(countries[\"id\"]),\n",
    "    \"code\": list(countries[\"code\"]),\n",
    "    \"country\": list(countries[\"country\"]),\n",
    "    \"nationality\": list(countries[\"nationality\"])\n",
    "}\n",
    "\n",
    "#Companies\n",
    "companies_data = {\n",
    "    \"id\": list(companies[\"id\"]),\n",
    "    \"name\": list(companies[\"company_name\"]),\n",
    "    \"tax_id\": list(companies[\"tax_id\"]),\n",
    "    \"sales\": list(companies[\"sales\"])\n",
    "}\n",
    "\n",
    "#bills\n",
    "bills_data = {\n",
    "    \"id\": list(bills[\"id\"]),\n",
    "    \"user_id\": list(bills[\"user_id\"]),\n",
    "    \"bill_address\": list(bills[\"bill_address\"]),\n",
    "    \"shippin_address\": list(bills[\"shipping_Address\"]),\n",
    "    \"status\": list(bills[\"status\"]),\n",
    "    \"created\": list(bills[\"created\"])\n",
    "}\n",
    "\n",
    "#Bills-Items\n",
    "bill_items_data = {\n",
    "    \"id\": list(bills_items[\"id\"]),\n",
    "    \"bill_id\": list(bills_items[\"bill_id\"]),\n",
    "    \"product_item_id\": list(bills_items[\"product_item_id\"]),\n",
    "    \"quantity\": list(bills_items[\"quantity\"])\n",
    "}\n",
    "\n",
    "#Products\n",
    "products_data = {\n",
    "    \"id\": list(products[\"id\"]),\n",
    "    \"product_name\": list(products[\"product_name\"]),\n",
    "    \"description\": list(products[\"description\"]),\n",
    "    \"price\": list(products[\"price\"]),\n",
    "    \"release\": list(products[\"release\"]),\n",
    "    \"department\": list(products[\"department\"])\n",
    "}\n",
    "\n",
    "#Products-Items\n",
    "products_items_data = {\n",
    "    \"id\": list(products_items[\"id\"]),\n",
    "    \"product_id\": list(products_items[\"product_item\"]),\n",
    "    \"serial_number\": list(products_items[\"serial_number\"]),\n",
    "    \"status\": list(products_items[\"status\"])\n",
    "}\n",
    "\n",
    "#Payment\n",
    "payment_data = {\n",
    "    \"id\": list(payments[\"id\"]),\n",
    "    \"pay_methods\": list(payments[\"pay_methods_id\"]),\n",
    "    \"bills_id\": list(payments[\"bills_id\"]),\n",
    "    \"transaction_id\": list(payments[\"transaction_id\"]),\n",
    "    \"status\": list(payments[\"status\"]),\n",
    "    \"created\": list(payments[\"created\"])\n",
    "}\n",
    "\n",
    "#Payments-Methods\n",
    "payment_methods_data = {\n",
    "    \"id\": list(payment_methods[\"id\"]),\n",
    "    \"payment_method\": list(payment_methods[\"payment_method\"])\n",
    "}"
   ]
  },
  {
   "cell_type": "markdown",
   "id": "7a4055c8",
   "metadata": {},
   "source": [
    "### Cleaning User_data"
   ]
  },
  {
   "cell_type": "code",
   "execution_count": 6,
   "id": "a35fd9c0",
   "metadata": {},
   "outputs": [],
   "source": [
    "#Process\n",
    "countries_id = countries_data[\"id\"]\n",
    "user_countries = []\n",
    "\n",
    "#Ranges\n",
    "for x in range(0,5000):\n",
    "    num = random.randint(0,29)\n",
    "    user_countries.append(countries_id[num])\n",
    "\n",
    "\n",
    "user_data[\"country_id\"] = user_countries"
   ]
  },
  {
   "cell_type": "markdown",
   "id": "4f719fa0",
   "metadata": {},
   "source": [
    "### Cleaning Bills"
   ]
  },
  {
   "cell_type": "code",
   "execution_count": 7,
   "id": "c710fae3",
   "metadata": {},
   "outputs": [],
   "source": [
    "#Process\n",
    "user_id = user_data[\"id\"]\n",
    "bills_user_id = []\n",
    "bills_status = []\n",
    "\n",
    "b_status = [\"pending\",\"paid\",\"shipped\",\"delivered\",\"cancelled\"]\n",
    "\n",
    "#ranges\n",
    "for x in range(0,4000):\n",
    "    user_num = random.randint(0,4999)\n",
    "    status_num = random.randint(0,4)\n",
    "    bills_user_id.append(user_id[user_num])\n",
    "    bills_status.append(b_status[status_num])\n",
    "\n",
    "bills_data[\"user_id\"] = bills_user_id\n",
    "bills_data[\"status\"] = bills_status"
   ]
  },
  {
   "cell_type": "markdown",
   "id": "ed04ea3a",
   "metadata": {},
   "source": [
    "### Cleaning Products Items"
   ]
  },
  {
   "cell_type": "code",
   "execution_count": 8,
   "id": "1aba3e4b",
   "metadata": {},
   "outputs": [],
   "source": [
    "#Process\n",
    "products_id = products_data[\"id\"]\n",
    "id = []\n",
    "\n",
    "#Status\n",
    "p_status = [\"available\", \"sold\", \"returned\"]\n",
    "products_status = []\n",
    "\n",
    "\n",
    "for x in range(0,4000):\n",
    "    product_num = random.randint(0,149)\n",
    "    status_num = random.randint(0,2)\n",
    "    id.append(products_id[product_num])\n",
    "    products_status.append(p_status[status_num])\n",
    "\n",
    "products_items_data[\"product_id\"] = id\n",
    "products_items_data[\"status\"] = products_status"
   ]
  },
  {
   "cell_type": "markdown",
   "id": "52591b7c",
   "metadata": {},
   "source": [
    "### Cleaning Bills items"
   ]
  },
  {
   "cell_type": "code",
   "execution_count": 9,
   "id": "5a1c7c0d",
   "metadata": {},
   "outputs": [],
   "source": [
    "#Process\n",
    "bill_id = bills_data[\"id\"]\n",
    "products_items_id = products_items_data[\"id\"]\n",
    "\n",
    "products_id_new = []\n",
    "bill_id_new = []\n",
    "\n",
    "for x in range(0,4999):\n",
    "    product_num = random.randint(0,149)\n",
    "    bill_id_num = random.randint(0,3999)\n",
    "    products_id_new.append(products_items_id[product_num])\n",
    "    bill_id_new.append(bill_id[bill_id_num])\n",
    "\n",
    "bill_items_data[\"product_item_id\"] = products_id_new\n",
    "bill_items_data[\"bill_id\"] = bill_id_new\n"
   ]
  },
  {
   "cell_type": "markdown",
   "id": "89bbf542",
   "metadata": {},
   "source": [
    "### Cleaning  Payments"
   ]
  },
  {
   "cell_type": "code",
   "execution_count": 15,
   "id": "2ff7a18e",
   "metadata": {},
   "outputs": [],
   "source": [
    "#Process\n",
    "payment_methods_id = payment_methods_data[\"id\"]\n",
    "payment_new = []\n",
    "\n",
    "\n",
    "# Status\n",
    "pay_status = [\"pending\", \"completed\",\"failed\",\"refunded\"]\n",
    "\n",
    "pay_status_new = []\n",
    "\n",
    "for x in range(0,4000):\n",
    "    pay_method_num = random.randint(0,7)\n",
    "    pay_status_num = random.randint(0,3)\n",
    "    payment_new.append(payment_methods_id[pay_method_num])\n",
    "    pay_status_new.append(pay_status[pay_status_num])\n",
    "\n",
    "payment_data[\"pay_methods\"] = payment_new\n",
    "payment_data[\"status\"] = pay_status_new\n",
    "\n"
   ]
  },
  {
   "cell_type": "markdown",
   "id": "0996060f",
   "metadata": {},
   "source": [
    "### Saving Data Frames"
   ]
  },
  {
   "cell_type": "code",
   "execution_count": 16,
   "id": "8c79431f",
   "metadata": {},
   "outputs": [],
   "source": [
    "user = pd.DataFrame(user_data)\n",
    "countries = pd.DataFrame(countries_data)\n",
    "companies = pd.DataFrame(companies_data)\n",
    "bills = pd.DataFrame(bills_data)\n",
    "bill_items = pd.DataFrame(bill_items_data)\n",
    "products = pd.DataFrame(products_data)\n",
    "product_items = pd.DataFrame(products_items_data)\n",
    "payment = pd.DataFrame(payment_data)\n",
    "payment_methods = pd.DataFrame(payment_methods_data)"
   ]
  },
  {
   "cell_type": "markdown",
   "id": "3ef827e0",
   "metadata": {},
   "source": [
    "### Creating New Excel"
   ]
  },
  {
   "cell_type": "code",
   "execution_count": null,
   "id": "b7eef12b",
   "metadata": {},
   "outputs": [],
   "source": [
    "with pd.ExcelWriter(\"./excel/clean/data.xlsx\", engine=\"openpyxl\") as writer:   \n",
    "    user.to_excel(writer, sheet_name=\"user\", index=False)\n",
    "    countries.to_excel(writer, sheet_name=\"countries\", index=False)\n",
    "    companies.to_excel(writer, sheet_name=\"companies\", index=False)\n",
    "    bills.to_excel(writer, sheet_name=\"bills\", index=False)\n",
    "    bill_items.to_excel(writer, sheet_name=\"bill_items\", index=False)\n",
    "    products.to_excel(writer, sheet_name=\"products\", index=False)\n",
    "    # products_items.to_excel(writer, sheet_name=\"products_items\", index=False)\n",
    "    payment.to_excel(writer, sheet_name=\"payments\", index=False)\n",
    "    payment_methods.to_excel(writer, sheet_name=\"payments_methods\", index=False)"
   ]
  },
  {
   "cell_type": "markdown",
   "id": "b21630dd",
   "metadata": {},
   "source": [
    "### Something wnet wrong with Products_Items"
   ]
  },
  {
   "cell_type": "code",
   "execution_count": null,
   "id": "736522b8",
   "metadata": {},
   "outputs": [],
   "source": [
    "product_items.to_excel(\"./product.xlsx\", engine=\"openpyxl\",sheet_name=\"products_items\", index=False)"
   ]
  }
 ],
 "metadata": {
  "kernelspec": {
   "display_name": "scrap",
   "language": "python",
   "name": "python3"
  },
  "language_info": {
   "codemirror_mode": {
    "name": "ipython",
    "version": 3
   },
   "file_extension": ".py",
   "mimetype": "text/x-python",
   "name": "python",
   "nbconvert_exporter": "python",
   "pygments_lexer": "ipython3",
   "version": "3.12.5"
  }
 },
 "nbformat": 4,
 "nbformat_minor": 5
}
