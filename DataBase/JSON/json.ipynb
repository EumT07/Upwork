{
 "cells": [
  {
   "cell_type": "code",
   "execution_count": 1,
   "id": "34fcc499",
   "metadata": {},
   "outputs": [],
   "source": [
    "import pandas as pd\n",
    "import json, os\n",
    "from datetime import datetime"
   ]
  },
  {
   "cell_type": "markdown",
   "id": "937ddc8c",
   "metadata": {},
   "source": [
    "### Excel Root"
   ]
  },
  {
   "cell_type": "code",
   "execution_count": 3,
   "id": "26031327",
   "metadata": {},
   "outputs": [],
   "source": [
    "root = \"../excel/clean/data_cleaned.xlsx\""
   ]
  },
  {
   "cell_type": "markdown",
   "id": "e5186d62",
   "metadata": {},
   "source": [
    "### Getting Data"
   ]
  },
  {
   "cell_type": "code",
   "execution_count": 53,
   "id": "e290af4f",
   "metadata": {},
   "outputs": [],
   "source": [
    "user = pd.read_excel(root, sheet_name=\"users\", parse_dates=['birthday', 'created'])\n",
    "countries = pd.read_excel(root, sheet_name=\"countries\")\n",
    "companies = pd.read_excel(root, sheet_name=\"companies\")\n",
    "bills = pd.read_excel(root, sheet_name=\"bills\",parse_dates=['created'])\n",
    "bills_items = pd.read_excel(root, sheet_name=\"bill_items\")\n",
    "products = pd.read_excel(root, sheet_name=\"products\",parse_dates=['release'])\n",
    "products_items = pd.read_excel(root, sheet_name=\"product_items\")\n",
    "payments = pd.read_excel(root, sheet_name=\"payments\",parse_dates=['created'])\n",
    "payment_methods = pd.read_excel(root, sheet_name=\"payments_methods\")"
   ]
  },
  {
   "cell_type": "markdown",
   "id": "6239efe9",
   "metadata": {},
   "source": [
    "### Convert dates --> user['created']"
   ]
  },
  {
   "cell_type": "code",
   "execution_count": 66,
   "id": "bd1377b4",
   "metadata": {},
   "outputs": [],
   "source": [
    "def convert_dates(data,):\n",
    "    new_list = []\n",
    "    for i in range(len(data)):\n",
    "        if len(data[i]) >= 19:\n",
    "            new_list.append(data[i].split(' ')[0])\n",
    "        else:\n",
    "            new_list.append(datetime.strptime(data[i], '%d/%m/%Y').strftime('%Y-%m-%d'))\n",
    "        \n",
    "    return new_list"
   ]
  },
  {
   "cell_type": "markdown",
   "id": "5204b06c",
   "metadata": {},
   "source": [
    "### Creating Objects"
   ]
  },
  {
   "cell_type": "code",
   "execution_count": 77,
   "id": "13971ea6",
   "metadata": {},
   "outputs": [],
   "source": [
    "#Users\n",
    "user_data = {\n",
    "    \"id\": list(user[\"id\"]),\n",
    "    \"username\": list(user[\"username\"]),\n",
    "    \"first_name\": list(user[\"first_name\"]),\n",
    "    \"last_name\": list(user[\"last_name\"]),\n",
    "    \"email\": list(user[\"email\"]),\n",
    "    \"password\": list(user[\"password\"]),\n",
    "    \"gender\": list(user[\"gender\"]),\n",
    "    \"birthday\": [x.strftime('%Y-%m-%d') if x else None for x in user[\"birthday\"]],\n",
    "    \"country_id\": list(user[\"country_id\"]),\n",
    "    \"created\": convert_dates(user['created'].tolist())\n",
    "}\n",
    "\n",
    "#Countries\n",
    "countries_data = {\n",
    "    \"id\": list(countries[\"id\"]),\n",
    "    \"code\": list(countries[\"code\"]),\n",
    "    \"country\": list(countries[\"country\"]),\n",
    "    \"nationality\": list(countries[\"nationality\"])\n",
    "}\n",
    "\n",
    "#Companies\n",
    "companies_data = {\n",
    "    \"id\": list(companies[\"id\"]),\n",
    "    \"name\": list(companies[\"name\"]),\n",
    "    \"tax_id\": list(companies[\"tax_id\"]),\n",
    "    \"sales\": list(companies[\"sales\"])\n",
    "}\n",
    "\n",
    "#bills\n",
    "bills_data = {\n",
    "    \"id\": list(bills[\"id\"]),\n",
    "    \"user_id\": list(bills[\"user_id\"]),\n",
    "    \"bill_address\": list(bills[\"bill_address\"]),\n",
    "    \"shipping_address\": list(bills[\"shipping_address\"]),\n",
    "    \"status\": list(bills[\"status\"]),\n",
    "    \"created\": [x.strftime('%Y-%m-%d') if x else None for x in bills[\"created\"]]\n",
    "}\n",
    "\n",
    "#Bills-Items\n",
    "bill_items_data = {\n",
    "    \"id\": list(bills_items[\"id\"]),\n",
    "    \"bill_id\": list(bills_items[\"bill_id\"]),\n",
    "    \"product_item_id\": list(bills_items[\"product_item_id\"]),\n",
    "    \"quantity\": list(bills_items[\"quantity\"])\n",
    "}\n",
    "\n",
    "#Products\n",
    "products_data = {\n",
    "    \"id\": list(products[\"id\"]),\n",
    "    \"product_name\": list(products[\"product_name\"]),\n",
    "    \"description\": list(products[\"description\"]),\n",
    "    \"price\": list(products[\"price\"]),\n",
    "    \"release\": [x.strftime('%Y-%m-%d') if x else None for x in products[\"release\"]],\n",
    "    \"department\": list(products[\"department\"])\n",
    "}\n",
    "\n",
    "#Products-Items\n",
    "products_items_data = {\n",
    "    \"id\": list(products_items[\"id\"]),\n",
    "    \"product_id\": list(products_items[\"product_id\"]),\n",
    "    \"serial_number\": list(products_items[\"serial_number\"]),\n",
    "    \"status\": list(products_items[\"status\"])\n",
    "}\n",
    "\n",
    "#Payment\n",
    "payment_data = {\n",
    "    \"id\": list(payments[\"id\"]),\n",
    "    \"pay_methods_id\": list(payments[\"pay_methods_id\"]),\n",
    "    \"bills_id\": list(payments[\"bills_id\"]),\n",
    "    \"transaction_id\": list(payments[\"transaction_id\"]),\n",
    "    \"status\": list(payments[\"status\"]),\n",
    "    \"created\": [x.strftime('%Y-%m-%d') if x else None for x in payments[\"created\"]]\n",
    "}\n",
    "\n",
    "#Payments-Methods\n",
    "payment_methods_data = {\n",
    "    \"id\": list(payment_methods[\"id\"]),\n",
    "    \"payment_method\": list(payment_methods[\"payment_method\"])\n",
    "}"
   ]
  },
  {
   "cell_type": "markdown",
   "id": "d52def95",
   "metadata": {},
   "source": [
    "### Users Model"
   ]
  },
  {
   "cell_type": "code",
   "execution_count": 78,
   "id": "5c8f479b",
   "metadata": {},
   "outputs": [],
   "source": [
    "JSON_users = []\n",
    "\n",
    "for i in range(len(user_data[\"id\"])):\n",
    "    JSON_users.append({\n",
    "        \"id\": user_data[\"id\"][i],\n",
    "        \"username\": user_data[\"username\"][i],\n",
    "        \"first_name\": user_data[\"first_name\"][i],\n",
    "        \"last_name\": user_data[\"last_name\"][i],\n",
    "        \"email\": user_data[\"email\"][i],\n",
    "        \"password\": user_data[\"password\"][i],\n",
    "        \"gender\": user_data[\"gender\"][i],\n",
    "        \"birthday\": user_data[\"birthday\"][i],\n",
    "        \"country\": user_data[\"country_id\"][i],\n",
    "        \"created\": user_data[\"created\"][i]\n",
    "    })\n"
   ]
  },
  {
   "cell_type": "markdown",
   "id": "523b33be",
   "metadata": {},
   "source": [
    "### Countries Model"
   ]
  },
  {
   "cell_type": "code",
   "execution_count": 79,
   "id": "5e258a56",
   "metadata": {},
   "outputs": [],
   "source": [
    "JSON_countries = []\n",
    "\n",
    "for i in range(len(countries_data[\"id\"])):\n",
    "    JSON_countries.append({\n",
    "        \"id\": countries_data[\"id\"][i],\n",
    "        \"code\": countries_data[\"code\"][i],\n",
    "        \"country\": countries_data[\"country\"][i],\n",
    "        \"nationality\": countries_data[\"nationality\"][i],\n",
    "    })"
   ]
  },
  {
   "cell_type": "markdown",
   "id": "821022fa",
   "metadata": {},
   "source": [
    "### Companies Model"
   ]
  },
  {
   "cell_type": "code",
   "execution_count": 80,
   "id": "325eaa10",
   "metadata": {},
   "outputs": [],
   "source": [
    "JSON_companies = []\n",
    "\n",
    "for i in range(len(companies_data[\"id\"])):\n",
    "    JSON_companies.append({\n",
    "        \"id\": companies_data[\"id\"][i],\n",
    "        \"name\": companies_data[\"name\"][i],\n",
    "        \"tax_id\": companies_data[\"tax_id\"][i],\n",
    "        \"sales\": companies_data[\"sales\"][i]\n",
    "    })"
   ]
  },
  {
   "cell_type": "markdown",
   "id": "3a2f6069",
   "metadata": {},
   "source": [
    "### Bills Model"
   ]
  },
  {
   "cell_type": "code",
   "execution_count": 81,
   "id": "34321ded",
   "metadata": {},
   "outputs": [],
   "source": [
    "JSON_bills = []\n",
    "\n",
    "for i in range(len(bills_data[\"id\"])):\n",
    "    JSON_bills.append({\n",
    "        \"id\": bills_data[\"id\"][i],\n",
    "        \"user_id\": bills_data[\"user_id\"][i],\n",
    "        \"bill_address\": bills_data[\"bill_address\"][i],\n",
    "        \"shipping_address\": bills_data[\"shipping_address\"][i],\n",
    "        \"status\": bills_data[\"status\"][i],\n",
    "        \"created\": bills_data[\"created\"][i]\n",
    "    })"
   ]
  },
  {
   "cell_type": "markdown",
   "id": "b33a5d46",
   "metadata": {},
   "source": [
    "### Bill Items Model"
   ]
  },
  {
   "cell_type": "code",
   "execution_count": 82,
   "id": "662835da",
   "metadata": {},
   "outputs": [],
   "source": [
    "JSON_bills_items = []\n",
    "\n",
    "for i in range(len(bill_items_data[\"id\"])):\n",
    "    JSON_bills_items.append({\n",
    "        \"id\": bill_items_data[\"id\"][i],\n",
    "        \"bill_id\": bill_items_data[\"bill_id\"][i],\n",
    "        \"product_item_id\": bill_items_data[\"product_item_id\"][i],\n",
    "        \"quantity\": bill_items_data[\"quantity\"][i]\n",
    "    })"
   ]
  },
  {
   "cell_type": "markdown",
   "id": "3ac6942f",
   "metadata": {},
   "source": [
    "### Products Model"
   ]
  },
  {
   "cell_type": "code",
   "execution_count": 83,
   "id": "1059c239",
   "metadata": {},
   "outputs": [],
   "source": [
    "JSON_products = []\n",
    "\n",
    "for i in range(len(products_data[\"id\"])):\n",
    "    JSON_products.append({\n",
    "        \"id\": products_data[\"id\"][i],\n",
    "        \"product_name\": products_data[\"product_name\"][i],\n",
    "        \"description\": products_data[\"description\"][i],\n",
    "        \"price\": products_data[\"price\"][i],\n",
    "        \"release\": products_data[\"release\"][i],\n",
    "        \"department\": products_data[\"department\"][i]\n",
    "    })"
   ]
  },
  {
   "cell_type": "markdown",
   "id": "8e5c3edd",
   "metadata": {},
   "source": [
    "### Product_items Model"
   ]
  },
  {
   "cell_type": "code",
   "execution_count": 84,
   "id": "febe9345",
   "metadata": {},
   "outputs": [],
   "source": [
    "JSON_product_items = []\n",
    "\n",
    "for i in range(len(products_items_data[\"id\"])):\n",
    "    JSON_product_items.append({\n",
    "        \"id\": products_items_data[\"id\"][i],\n",
    "        \"product_id\": products_items_data[\"product_id\"][i],\n",
    "        \"serial_number\": products_items_data[\"serial_number\"][i],\n",
    "        \"status\": products_items_data[\"status\"][i]\n",
    "    })"
   ]
  },
  {
   "cell_type": "markdown",
   "id": "bad92865",
   "metadata": {},
   "source": [
    "### Pyments Model"
   ]
  },
  {
   "cell_type": "code",
   "execution_count": 85,
   "id": "8ad3496a",
   "metadata": {},
   "outputs": [],
   "source": [
    "JSON_payments = []\n",
    "\n",
    "for i in range(len(payment_data[\"id\"])):\n",
    "    JSON_payments.append({\n",
    "        \"id\": payment_data[\"id\"][i],\n",
    "        \"pay_methods_id\": payment_data[\"pay_methods_id\"][i],\n",
    "        \"bills_id\": payment_data[\"bills_id\"][i],\n",
    "        \"transaction_id\": payment_data[\"transaction_id\"][i],\n",
    "        \"status\": payment_data[\"status\"][i],\n",
    "        \"created\": payment_data[\"created\"][i]\n",
    "    })"
   ]
  },
  {
   "cell_type": "markdown",
   "id": "e0fcc012",
   "metadata": {},
   "source": [
    "### Payment Methods Model"
   ]
  },
  {
   "cell_type": "code",
   "execution_count": 86,
   "id": "eb13fd85",
   "metadata": {},
   "outputs": [],
   "source": [
    "JSON_payment_methods = []\n",
    "\n",
    "for i in range(len(payment_methods_data[\"id\"])):\n",
    "    JSON_payment_methods.append({\n",
    "        \"id\": payment_methods_data[\"id\"][i],\n",
    "        \"payment_method\": payment_methods_data[\"payment_method\"][i]\n",
    "    })"
   ]
  },
  {
   "cell_type": "markdown",
   "id": "16441604",
   "metadata": {},
   "source": [
    "## Inserting data into JSON file"
   ]
  },
  {
   "cell_type": "code",
   "execution_count": 87,
   "id": "6177dc06",
   "metadata": {},
   "outputs": [],
   "source": [
    "def Get_JSON(file,data):\n",
    "    \"\"\"\n",
    "    Convert a list of product dictionaries into a JSON format.\n",
    "    \n",
    "    Args:\n",
    "        products: List of product dictionaries containing scraped data\n",
    "        \n",
    "    Returns:\n",
    "        JSON: JSON formatted string of the product data\n",
    "    \"\"\"\n",
    "    # root\n",
    "    root = None\n",
    "\n",
    "    # Make folder\n",
    "    folder_path = \"./json\"\n",
    "    os.makedirs(folder_path, exist_ok=True)\n",
    "\n",
    "    #file root\n",
    "    root = os.path.join(f\"{folder_path}/{file}.json\")\n",
    "    try:\n",
    "        with open(root, \"w\") as f:\n",
    "            json.dump([],f)\n",
    "\n",
    "        def insert_JSON(data, fileName = root):\n",
    "            with open(fileName, \"r+\", encoding= \"utf-8\") as file:\n",
    "                file_data = json.load(file)\n",
    "                file_data.append(data)\n",
    "                file.seek(0)\n",
    "                json.dump(file_data, file, indent= 4)\n",
    "\n",
    "        for object in data:\n",
    "            insert_JSON(object)\n",
    "\n",
    "    except Exception as e:\n",
    "        print(f\" JSON | Error: {e}\")"
   ]
  },
  {
   "cell_type": "code",
   "execution_count": 88,
   "id": "8ca0ddd5",
   "metadata": {},
   "outputs": [
    {
     "name": "stdout",
     "output_type": "stream",
     "text": [
      "JSON files created successfully.\n"
     ]
    }
   ],
   "source": [
    "Get_JSON(\"users\", JSON_users)\n",
    "Get_JSON(\"countries\", JSON_countries)\n",
    "Get_JSON(\"companies\", JSON_companies)\n",
    "Get_JSON(\"bills\", JSON_bills)\n",
    "Get_JSON(\"bill_items\", JSON_bills_items)\n",
    "Get_JSON(\"products\", JSON_products)\n",
    "Get_JSON(\"product_items\", JSON_product_items)\n",
    "Get_JSON(\"payments\", JSON_payments)\n",
    "Get_JSON(\"payment_methods\", JSON_payment_methods)\n",
    "print(\"JSON files created successfully.\")"
   ]
  }
 ],
 "metadata": {
  "kernelspec": {
   "display_name": "scrap",
   "language": "python",
   "name": "python3"
  },
  "language_info": {
   "codemirror_mode": {
    "name": "ipython",
    "version": 3
   },
   "file_extension": ".py",
   "mimetype": "text/x-python",
   "name": "python",
   "nbconvert_exporter": "python",
   "pygments_lexer": "ipython3",
   "version": "3.12.5"
  }
 },
 "nbformat": 4,
 "nbformat_minor": 5
}
