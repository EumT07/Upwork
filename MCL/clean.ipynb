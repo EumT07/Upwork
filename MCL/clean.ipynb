{
 "cells": [
  {
   "cell_type": "markdown",
   "id": "db97b26d",
   "metadata": {},
   "source": [
    "### Cleaning Data From Excel"
   ]
  },
  {
   "cell_type": "code",
   "execution_count": 1,
   "id": "e9635ed3",
   "metadata": {},
   "outputs": [],
   "source": [
    "import pandas as pd\n",
    "import math\n",
    "import os\n",
    "import json"
   ]
  },
  {
   "cell_type": "code",
   "execution_count": 3,
   "id": "46178721",
   "metadata": {},
   "outputs": [],
   "source": [
    "df = pd.read_excel(\"./products/dirty/laptops.xlsx\", sheet_name=\"laptops\")"
   ]
  },
  {
   "cell_type": "markdown",
   "id": "188c723c",
   "metadata": {},
   "source": [
    "## Start Cleaning"
   ]
  },
  {
   "cell_type": "markdown",
   "id": "bf9cdebb",
   "metadata": {},
   "source": [
    "### Get Description"
   ]
  },
  {
   "cell_type": "code",
   "execution_count": 4,
   "id": "e4f74c66",
   "metadata": {},
   "outputs": [
    {
     "name": "stdout",
     "output_type": "stream",
     "text": [
      "<class 'pandas.core.frame.DataFrame'>\n",
      "RangeIndex: 1920 entries, 0 to 1919\n",
      "Data columns (total 11 columns):\n",
      " #   Column          Non-Null Count  Dtype  \n",
      "---  ------          --------------  -----  \n",
      " 0   brand           1440 non-null   object \n",
      " 1   description     1920 non-null   object \n",
      " 2   seller          249 non-null    object \n",
      " 3   price_amount    1920 non-null   float64\n",
      " 4   price_discount  26 non-null     object \n",
      " 5   rating          87 non-null     float64\n",
      " 6   stars           1920 non-null   bool   \n",
      " 7   total_sales     87 non-null     float64\n",
      " 8   shipping_info   950 non-null    object \n",
      " 9   img_url         1920 non-null   object \n",
      " 10  product_url     1920 non-null   object \n",
      "dtypes: bool(1), float64(3), object(7)\n",
      "memory usage: 152.0+ KB\n"
     ]
    }
   ],
   "source": [
    "df.info()"
   ]
  },
  {
   "cell_type": "markdown",
   "id": "27e24f48",
   "metadata": {},
   "source": [
    "### Getting all Data"
   ]
  },
  {
   "cell_type": "code",
   "execution_count": 5,
   "id": "6700a5b6",
   "metadata": {},
   "outputs": [],
   "source": [
    "brands = list(df[\"brand\"].fillna(\"No-Brand\"))\n",
    "descriptions = list(df.description)\n",
    "sellers = list(df.seller.fillna(\"No-seller-identified\"))\n",
    "price_amounts = list(df.price_amount)\n",
    "price_discounts = list(df.price_discount.fillna(0))\n",
    "ratings = list(df.rating.fillna(0))\n",
    "starts = list(df.stars)\n",
    "total_sales = list(df.total_sales.fillna(0))\n",
    "shipping_info = list(df.shipping_info.fillna(\"ENVÍO PAGO\"))\n",
    "img_urls = list(df.img_url.fillna(\"No-img-url\"))\n",
    "products_urls = list(df.product_url.fillna(\"No-product-url\"))\n"
   ]
  },
  {
   "cell_type": "markdown",
   "id": "4e9a68e5",
   "metadata": {},
   "source": [
    "### Checking if the list are in the same length."
   ]
  },
  {
   "cell_type": "code",
   "execution_count": 6,
   "id": "1faa8eb2",
   "metadata": {},
   "outputs": [
    {
     "name": "stdout",
     "output_type": "stream",
     "text": [
      "\n",
      "Brand: <class 'list'> | length: 1920\n",
      "description: <class 'list'> | length: 1920\n",
      "sellers: <class 'list'> | length: 1920\n",
      "price_amounts: <class 'list'> | length: 1920\n",
      "price_discounts: <class 'list'> | length: 1920\n",
      "ratigns: <class 'list'> | length: 1920\n",
      "starts: <class 'list'> | length: 1920\n",
      "total_sales: <class 'list'> | length: 1920\n",
      "shipping_info: <class 'list'> | length: 1920\n",
      "img-urls: <class 'list'> | length: 1920\n",
      "products-urls: <class 'list'> | length: 1920\n",
      "\n"
     ]
    }
   ],
   "source": [
    "print(f\"\"\"\n",
    "Brand: {type(brands)} | length: {len(brands)}\n",
    "description: {type(descriptions)} | length: {len(descriptions)}\n",
    "sellers: {type(sellers)} | length: {len(sellers)}\n",
    "price_amounts: {type(price_amounts)} | length: {len(price_amounts)}\n",
    "price_discounts: {type(price_discounts)} | length: {len(price_discounts)}\n",
    "ratigns: {type(ratings)} | length: {len(ratings)}\n",
    "starts: {type(starts)} | length: {len(starts)}\n",
    "total_sales: {type(total_sales)} | length: {len(total_sales)}\n",
    "shipping_info: {type(shipping_info)} | length: {len(shipping_info)}\n",
    "img-urls: {type(img_urls)} | length: {len(img_urls)}\n",
    "products-urls: {type(products_urls)} | length: {len(products_urls)}\n",
    "\"\"\")"
   ]
  },
  {
   "cell_type": "markdown",
   "id": "cce4c91e",
   "metadata": {},
   "source": [
    "### Laptops Brand List"
   ]
  },
  {
   "cell_type": "code",
   "execution_count": 7,
   "id": "489ec336",
   "metadata": {},
   "outputs": [],
   "source": [
    "laptop_brands = [\n",
    "    \"DELL\",\"LENOVO\",\"HP\",\"ASUS\",\"ACER\",\"SAMSUNG\",\"SONY\",\"MICROSOFT\",\"MSI\",\"APPLE\",\"MAC\",\"MACBOOK\",\"GATEWAY\",\"CHUWI\",\n",
    "    \"TOSHIBA\",\"ALIENWARE\",\"RAZER\",\"LG\",\"HUAWEI\",\"XIAOMI\",\"HONOR\",\"FUJITSU\",\"PANASONIC\",\"VAIO\",\"COMPAQ\",\"VIT\",\"UTECH\",    \"ONIX\",\"MEDION\",\"EVOO\",\"POSITIVO\",\"SÍRAGON\",\"SIRAGON\",\"JEMIP\",\"HYUNDAI\"\n",
    "]\n",
    "\n",
    "laptops_damaged = [\"DAÑADA\", \"DAÑADO\", \"REPARAR\", \"REPUESTO\", \"REPUESTOS\", \"DEFECTUOSA\"]\n"
   ]
  },
  {
   "cell_type": "markdown",
   "id": "8f8658cc",
   "metadata": {},
   "source": [
    "### Cleaning Brands"
   ]
  },
  {
   "cell_type": "code",
   "execution_count": 8,
   "id": "91c1830d",
   "metadata": {},
   "outputs": [],
   "source": [
    "brand_cleaned = []\n",
    "works = []#new field added\n",
    "\n",
    "def damaged_laptop(description):  \n",
    "    try:\n",
    "        for dameged in laptops_damaged:\n",
    "            if dameged.lower() in description:\n",
    "                return \"DAÑADA\"        \n",
    "        return \"OPERATIVA\"\n",
    "    except Exception as e:\n",
    "        print(f\" Damage | Error: {e}\")\n",
    "\n",
    "def get_laptop_brand(brand,description):\n",
    "    try:\n",
    "        for laptop in laptop_brands:\n",
    "            if laptop.lower() in description:\n",
    "                return laptop\n",
    "        return brand\n",
    "    except Exception as e:\n",
    "        print(f\" Laptop Brand | Error: {e}\")\n",
    "    \n",
    "\n",
    "for index, brand in enumerate(brands):\n",
    "    description = descriptions[index].lower().split()\n",
    "    if brand == \"No-Brand\":\n",
    "        works.append(damaged_laptop(description))\n",
    "        brand_cleaned.append(get_laptop_brand(brand,description))\n",
    "    else:\n",
    "        works.append(damaged_laptop(description))\n",
    "        brand_cleaned.append(brand)\n"
   ]
  },
  {
   "cell_type": "markdown",
   "id": "31c29305",
   "metadata": {},
   "source": [
    "### Cleaning Sellers"
   ]
  },
  {
   "cell_type": "code",
   "execution_count": 9,
   "id": "a0592f03",
   "metadata": {},
   "outputs": [],
   "source": [
    "sellers_cleaned = []\n",
    "\n",
    "for seller in sellers:\n",
    "    if seller.lower().startswith(\"por\"):\n",
    "        sellers_cleaned.append(seller.lower().replace(\"por\",\"\").lstrip().upper())\n",
    "    else:\n",
    "        sellers_cleaned.append(seller.upper())"
   ]
  },
  {
   "cell_type": "markdown",
   "id": "077e95c2",
   "metadata": {},
   "source": [
    "### Cleaning Price "
   ]
  },
  {
   "cell_type": "code",
   "execution_count": 10,
   "id": "b42986ed",
   "metadata": {},
   "outputs": [],
   "source": [
    "price_cleaned = []\n",
    "\n",
    "for price in price_amounts:\n",
    "    price = str(price).replace(\".0\",\"\")\n",
    "    if len(price) >= 5:\n",
    "        new_value = price.replace(\".\",\"\")\n",
    "        price_cleaned.append(int(new_value))\n",
    "    else:\n",
    "        price_cleaned.append(int(float(price)))\n",
    "    "
   ]
  },
  {
   "cell_type": "markdown",
   "id": "e057a6e4",
   "metadata": {},
   "source": [
    "### Cleaning Price Discount"
   ]
  },
  {
   "cell_type": "code",
   "execution_count": 11,
   "id": "e1d2598b",
   "metadata": {},
   "outputs": [],
   "source": [
    "price_discounts_cleaned = []\n",
    "for price in price_discounts:\n",
    "    if price == 0:\n",
    "        price_discounts_cleaned.append(price)\n",
    "    else:\n",
    "        price = int(price.lower().replace(\"% off\",\"\"))\n",
    "        price_discounts_cleaned.append(price)"
   ]
  },
  {
   "cell_type": "markdown",
   "id": "694b19c9",
   "metadata": {},
   "source": [
    "### Cleaning Ratings"
   ]
  },
  {
   "cell_type": "code",
   "execution_count": 12,
   "id": "5c3e1256",
   "metadata": {},
   "outputs": [],
   "source": [
    "ratings_cleaned = []\n",
    "for rate in ratings:\n",
    "    ratings_cleaned.append(math.floor(rate))"
   ]
  },
  {
   "cell_type": "markdown",
   "id": "6fe64442",
   "metadata": {},
   "source": [
    "### Cleaning Shipping"
   ]
  },
  {
   "cell_type": "code",
   "execution_count": 13,
   "id": "5595f8f2",
   "metadata": {},
   "outputs": [],
   "source": [
    "shipping_info_cleaned = []\n",
    "for shipping in shipping_info:\n",
    "    shipping_info_cleaned.append(shipping.upper().replace(\"ENVÍO \",\"\"))"
   ]
  },
  {
   "cell_type": "markdown",
   "id": "e968c472",
   "metadata": {},
   "source": [
    "### Check Lenth of all data"
   ]
  },
  {
   "cell_type": "code",
   "execution_count": null,
   "id": "a9bc7ff3",
   "metadata": {},
   "outputs": [],
   "source": [
    "print(f\"\"\"\n",
    "Modelo: {len(brand_cleaned)}\n",
    "Descripcion: {len(descriptions)}\n",
    "Vendedor: {len(sellers_cleaned)}\n",
    "Precio: {len(price_cleaned)}\n",
    "Descuento:  {len(price_discounts_cleaned)}\n",
    "Ratign:  {len(ratings_cleaned)}\n",
    "Stars: {len(starts)}\n",
    "Ventas:  {len(total_sales)}\n",
    "Envío:  length: {len(shipping_info_cleaned)}\n",
    "Estado: {len(works)}\n",
    "img-urls: {len(img_urls)}\n",
    "products-urls: {len(products_urls)}\n",
    "\"\"\")"
   ]
  },
  {
   "cell_type": "markdown",
   "id": "8921f988",
   "metadata": {},
   "source": [
    "### Making new Dict"
   ]
  },
  {
   "cell_type": "code",
   "execution_count": 15,
   "id": "3638ff65",
   "metadata": {},
   "outputs": [],
   "source": [
    "product_data = {\n",
    "        'Modelo': brand_cleaned,\n",
    "        'Descripcion': descriptions,\n",
    "        'Vendedor': sellers_cleaned,\n",
    "        'Precio': price_cleaned,\n",
    "        'Descuento': price_discounts_cleaned,\n",
    "        'Rating': ratings_cleaned,\n",
    "        'Stars': starts,\n",
    "        'Ventas': total_sales,\n",
    "        'Envío': shipping_info_cleaned,\n",
    "        'Estado': works,\n",
    "        'image_url': img_urls,\n",
    "        'product_url': products_urls\n",
    "    }"
   ]
  },
  {
   "cell_type": "markdown",
   "id": "73db695a",
   "metadata": {},
   "source": [
    "### Getting Excel format"
   ]
  },
  {
   "cell_type": "code",
   "execution_count": 16,
   "id": "fc60e7fd",
   "metadata": {},
   "outputs": [],
   "source": [
    "def get_CSV(file: str, data):\n",
    "    \"\"\"\n",
    "    Convert a list of product dictionaries into a pandas DataFrame.\n",
    "    \n",
    "    Args:\n",
    "        products: List of product dictionaries containing scraped data\n",
    "        \n",
    "    Returns:\n",
    "        pd.DataFrame: Structured dataframe containing all product information\n",
    "    \"\"\"\n",
    "    try:\n",
    "        excel_cleaned = pd.DataFrame(data)\n",
    "        excel_cleaned.to_excel(f\"./products/clean/{file}.xlsx\", engine='openpyxl',index=False, sheet_name='laptops')\n",
    "        # excel_cleaned.to_csv(f\"./products/clean/{file}.csv\", index=False, sep=\";\", encoding='utf-8-sig')\n",
    "    except Exception as e:\n",
    "        print(f\" CSV | Error: {e}\")\n",
    "    \n",
    "\n",
    "# get_CSV(\"laptops\", product_data)\n",
    "get_CSV(\"lap\", product_data)"
   ]
  },
  {
   "cell_type": "markdown",
   "id": "b65097e3",
   "metadata": {},
   "source": [
    "### Making JSON model"
   ]
  },
  {
   "cell_type": "code",
   "execution_count": null,
   "id": "8f1f95c5",
   "metadata": {},
   "outputs": [],
   "source": [
    "JSON_data = []\n",
    "\n",
    "for index in range(0,1920):\n",
    "    JSON_data.append({\n",
    "        'Modelo': brand_cleaned[index],\n",
    "        'Descripcion': descriptions[index],\n",
    "        'Vendedor': sellers_cleaned[index],\n",
    "        'Precio': price_cleaned[index],\n",
    "        'Descuento': price_discounts_cleaned[index],\n",
    "        'Rating': ratings_cleaned[index],\n",
    "        'Stars': starts[index],\n",
    "        'Ventas': total_sales[index],\n",
    "        'Envío': shipping_info_cleaned[index],\n",
    "        'Estado': works[index],\n",
    "        'image_url': img_urls[index],\n",
    "        'product_url': products_urls[index]\n",
    "    })"
   ]
  },
  {
   "cell_type": "markdown",
   "id": "e7bb9c9c",
   "metadata": {},
   "source": [
    "### Getting JSON Format"
   ]
  },
  {
   "cell_type": "code",
   "execution_count": null,
   "id": "2d92beaf",
   "metadata": {},
   "outputs": [],
   "source": [
    "def Get_JSON(file,laptops):\n",
    "    \"\"\"\n",
    "    Convert a list of product dictionaries into a JSON format.\n",
    "    \n",
    "    Args:\n",
    "        products: List of product dictionaries containing scraped data\n",
    "        \n",
    "    Returns:\n",
    "        JSON: JSON formatted string of the product data\n",
    "    \"\"\"\n",
    "    # root\n",
    "    root = None\n",
    "\n",
    "    # Make folder\n",
    "    folder_path = \"./products\"\n",
    "    os.makedirs(folder_path, exist_ok=True)\n",
    "\n",
    "    #file root\n",
    "    root = os.path.join(f\"{folder_path}/clean/{file}.json\")\n",
    "    try:\n",
    "        with open(root, \"w\") as f:\n",
    "            json.dump([],f)\n",
    "\n",
    "        def insert_JSON(data, fileName = root):\n",
    "            with open(fileName, \"r+\", encoding= \"utf-8\") as file:\n",
    "                file_data = json.load(file)\n",
    "                file_data.append(data)\n",
    "                file.seek(0)\n",
    "                json.dump(file_data, file, indent= 4)\n",
    "\n",
    "        for laptop in laptops:\n",
    "            insert_JSON(laptop)\n",
    "    except Exception as e:\n",
    "        print(f\" JSON | Error: {e}\")\n",
    "\n",
    "Get_JSON(\"laptops\",JSON_data)"
   ]
  }
 ],
 "metadata": {
  "kernelspec": {
   "display_name": "scrap",
   "language": "python",
   "name": "python3"
  },
  "language_info": {
   "codemirror_mode": {
    "name": "ipython",
    "version": 3
   },
   "file_extension": ".py",
   "mimetype": "text/x-python",
   "name": "python",
   "nbconvert_exporter": "python",
   "pygments_lexer": "ipython3",
   "version": "3.12.5"
  }
 },
 "nbformat": 4,
 "nbformat_minor": 5
}
